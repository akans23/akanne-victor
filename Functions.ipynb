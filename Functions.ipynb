{
 "cells": [
  {
   "cell_type": "code",
   "execution_count": 1,
   "id": "13b61155",
   "metadata": {},
   "outputs": [
    {
     "name": "stdout",
     "output_type": "stream",
     "text": [
      "Please enter your name: Gift\n",
      "Hello, Gift\n"
     ]
    }
   ],
   "source": [
    "name = input(\"Please enter your name: \")\n",
    "\n",
    "print(f\"Hello, {name}\")"
   ]
  },
  {
   "cell_type": "code",
   "execution_count": 5,
   "id": "b0afba4e",
   "metadata": {},
   "outputs": [
    {
     "name": "stdout",
     "output_type": "stream",
     "text": [
      "Enter your age: 17\n",
      "You are not eligible to vote\n"
     ]
    }
   ],
   "source": [
    "age = int(input(\"Enter your age: \"))\n",
    "\n",
    "if age >= 18:\n",
    "    print(\"You are eligible to vote\")\n",
    "else:\n",
    "    print(\"You are not eligible to vote\")"
   ]
  },
  {
   "cell_type": "code",
   "execution_count": 6,
   "id": "d5f91bbe",
   "metadata": {},
   "outputs": [
    {
     "data": {
      "text/plain": [
       "int"
      ]
     },
     "execution_count": 6,
     "metadata": {},
     "output_type": "execute_result"
    }
   ],
   "source": [
    "type(age)"
   ]
  },
  {
   "cell_type": "markdown",
   "id": "ebb867c2",
   "metadata": {},
   "source": [
    "## User Defined Functions"
   ]
  },
  {
   "cell_type": "code",
   "execution_count": 7,
   "id": "87d5b7ab",
   "metadata": {},
   "outputs": [],
   "source": [
    "def greet_user():\n",
    "    print(\"Hello everyone\")"
   ]
  },
  {
   "cell_type": "code",
   "execution_count": 8,
   "id": "95627fe8",
   "metadata": {},
   "outputs": [
    {
     "name": "stdout",
     "output_type": "stream",
     "text": [
      "Hello everyone\n"
     ]
    }
   ],
   "source": [
    "greet_user()"
   ]
  },
  {
   "cell_type": "code",
   "execution_count": null,
   "id": "e96edaa7",
   "metadata": {},
   "outputs": [],
   "source": [
    "def greet_user_param(name):\n",
    "    print(f\"Hello {name}\")"
   ]
  },
  {
   "cell_type": "code",
   "execution_count": 9,
   "id": "c2b3fe12",
   "metadata": {},
   "outputs": [],
   "source": [
    "def greet_user():\n",
    "    print(\"Hello everyone\")"
   ]
  },
  {
   "cell_type": "code",
   "execution_count": 10,
   "id": "c60c401b",
   "metadata": {},
   "outputs": [
    {
     "name": "stdout",
     "output_type": "stream",
     "text": [
      "Hello everyone\n"
     ]
    }
   ],
   "source": [
    "greet_user()"
   ]
  },
  {
   "cell_type": "code",
   "execution_count": 11,
   "id": "3ef3d6a0",
   "metadata": {},
   "outputs": [],
   "source": [
    "def greet_user_param(name):\n",
    "    print(f\"Hello {name}\")"
   ]
  },
  {
   "cell_type": "code",
   "execution_count": 12,
   "id": "cf61b6bc",
   "metadata": {},
   "outputs": [
    {
     "name": "stdout",
     "output_type": "stream",
     "text": [
      "Hello John\n"
     ]
    }
   ],
   "source": [
    "greet_user_param(\"John\")"
   ]
  },
  {
   "cell_type": "code",
   "execution_count": 17,
   "id": "8afb7ac3",
   "metadata": {},
   "outputs": [],
   "source": [
    "def sum_two_numbers(a, b):\n",
    "    result = a + b\n",
    "    return result"
   ]
  },
  {
   "cell_type": "code",
   "execution_count": 18,
   "id": "344cc243",
   "metadata": {},
   "outputs": [],
   "source": [
    "first_result = sum_two_numbers(7, 2)"
   ]
  },
  {
   "cell_type": "code",
   "execution_count": 19,
   "id": "fdc1f305",
   "metadata": {},
   "outputs": [
    {
     "name": "stdout",
     "output_type": "stream",
     "text": [
      "9\n"
     ]
    }
   ],
   "source": [
    "print(first_result)"
   ]
  },
  {
   "cell_type": "code",
   "execution_count": 20,
   "id": "122b9377",
   "metadata": {},
   "outputs": [
    {
     "name": "stdout",
     "output_type": "stream",
     "text": [
      "The result of the function 9\n"
     ]
    }
   ],
   "source": [
    "print(f\"The result of the function {first_result}\")"
   ]
  },
  {
   "cell_type": "code",
   "execution_count": 21,
   "id": "a379c2e5",
   "metadata": {},
   "outputs": [
    {
     "data": {
      "text/plain": [
       "7"
      ]
     },
     "execution_count": 21,
     "metadata": {},
     "output_type": "execute_result"
    }
   ],
   "source": [
    "sum_two_numbers(3, 4)"
   ]
  },
  {
   "cell_type": "markdown",
   "id": "ac15f276",
   "metadata": {},
   "source": [
    "## Positional Arguments"
   ]
  },
  {
   "cell_type": "code",
   "execution_count": 22,
   "id": "ab7e8af3",
   "metadata": {},
   "outputs": [],
   "source": [
    "def describe_student(name, course):\n",
    "    return f\"My name is {name}. I am taking the {course} course.\""
   ]
  },
  {
   "cell_type": "code",
   "execution_count": 23,
   "id": "09d614fe",
   "metadata": {},
   "outputs": [
    {
     "data": {
      "text/plain": [
       "'My name is Jesse. I am taking the Python course.'"
      ]
     },
     "execution_count": 23,
     "metadata": {},
     "output_type": "execute_result"
    }
   ],
   "source": [
    "describe_student(\"Jesse\", \"Python\")"
   ]
  },
  {
   "cell_type": "code",
   "execution_count": 24,
   "id": "343e1c8d",
   "metadata": {},
   "outputs": [
    {
     "data": {
      "text/plain": [
       "'My name is Python. I am taking the Jesse course.'"
      ]
     },
     "execution_count": 24,
     "metadata": {},
     "output_type": "execute_result"
    }
   ],
   "source": [
    "describe_student(\"Python\", \"Jesse\")"
   ]
  },
  {
   "cell_type": "markdown",
   "id": "012638a4",
   "metadata": {},
   "source": [
    "## Keyword Arguments"
   ]
  },
  {
   "cell_type": "code",
   "execution_count": 25,
   "id": "6eb34903",
   "metadata": {},
   "outputs": [
    {
     "data": {
      "text/plain": [
       "'My name is Alice. I am taking the SQL course.'"
      ]
     },
     "execution_count": 25,
     "metadata": {},
     "output_type": "execute_result"
    }
   ],
   "source": [
    "describe_student(course=\"SQL\", name=\"Alice\")"
   ]
  },
  {
   "cell_type": "markdown",
   "id": "94eca966",
   "metadata": {},
   "source": [
    "## Default Values"
   ]
  },
  {
   "cell_type": "code",
   "execution_count": 26,
   "id": "2aabe260",
   "metadata": {},
   "outputs": [],
   "source": [
    "def describe_student(name, course=\"Python\", age=18):\n",
    "    return f\"My name is {name}. \\nI am taking the {course}. \\nI am {age} years old.\""
   ]
  },
  {
   "cell_type": "code",
   "execution_count": 29,
   "id": "ef651909",
   "metadata": {},
   "outputs": [
    {
     "name": "stdout",
     "output_type": "stream",
     "text": [
      "My name is Fred. \n",
      "I am taking the SQL. \n",
      "I am 20 years old.\n"
     ]
    }
   ],
   "source": [
    "student_information = describe_student(\"Fred\", \"SQL\", 20)\n",
    "\n",
    "print(student_information)"
   ]
  },
  {
   "cell_type": "markdown",
   "id": "d23cf15a",
   "metadata": {},
   "source": [
    "## Passing a List"
   ]
  },
  {
   "cell_type": "code",
   "execution_count": 30,
   "id": "e9d1d3ce",
   "metadata": {},
   "outputs": [],
   "source": [
    "def list_sum(num_list):\n",
    "    result = sum(num_list)\n",
    "    return result"
   ]
  },
  {
   "cell_type": "code",
   "execution_count": 31,
   "id": "2ea896a3",
   "metadata": {},
   "outputs": [
    {
     "data": {
      "text/plain": [
       "15"
      ]
     },
     "execution_count": 31,
     "metadata": {},
     "output_type": "execute_result"
    }
   ],
   "source": [
    "list_sum([1, 2, 3, 4, 5])"
   ]
  },
  {
   "cell_type": "markdown",
   "id": "f384b4a7",
   "metadata": {},
   "source": [
    "## Passing an arbitrary number of arguments"
   ]
  },
  {
   "cell_type": "code",
   "execution_count": 32,
   "id": "e22371d1",
   "metadata": {},
   "outputs": [],
   "source": [
    "def sum_of_numbers(*numbers):\n",
    "    result = 0\n",
    "    for num in numbers:\n",
    "        result += num\n",
    "    return result"
   ]
  },
  {
   "cell_type": "code",
   "execution_count": 40,
   "id": "4852f5a1",
   "metadata": {},
   "outputs": [
    {
     "data": {
      "text/plain": [
       "257"
      ]
     },
     "execution_count": 40,
     "metadata": {},
     "output_type": "execute_result"
    }
   ],
   "source": [
    "sum_of_numbers(1, 2, 3, 4, 5, 10, 45, 48, 43, 80, 1, 7, 8)"
   ]
  },
  {
   "cell_type": "markdown",
   "id": "b2afa3c4",
   "metadata": {},
   "source": [
    "## Passing an arbitrary number of keyword arguments"
   ]
  },
  {
   "cell_type": "code",
   "execution_count": 45,
   "id": "3c9b643b",
   "metadata": {},
   "outputs": [],
   "source": [
    "def student_profile(**student_info):\n",
    "    return student_info"
   ]
  },
  {
   "cell_type": "code",
   "execution_count": 46,
   "id": "75d6a28b",
   "metadata": {},
   "outputs": [],
   "source": [
    "student_dict = student_profile(course=\"SQL\", gender=\"Male\", location=\"Nigeria\")"
   ]
  },
  {
   "cell_type": "code",
   "execution_count": 47,
   "id": "f0b5173e",
   "metadata": {},
   "outputs": [
    {
     "data": {
      "text/plain": [
       "dict_keys(['course', 'gender', 'location'])"
      ]
     },
     "execution_count": 47,
     "metadata": {},
     "output_type": "execute_result"
    }
   ],
   "source": [
    "student_dict.keys()"
   ]
  },
  {
   "cell_type": "code",
   "execution_count": 43,
   "id": "0d6e7268",
   "metadata": {},
   "outputs": [
    {
     "data": {
      "text/plain": [
       "dict_values(['SQL', 'Male', 'Nigeria', 'John', 'Doe'])"
      ]
     },
     "execution_count": 43,
     "metadata": {},
     "output_type": "execute_result"
    }
   ],
   "source": [
    "student_dict.values()"
   ]
  },
  {
   "cell_type": "code",
   "execution_count": null,
   "id": "37a4ceb8",
   "metadata": {},
   "outputs": [],
   "source": []
  }
 ],
 "metadata": {
  "kernelspec": {
   "display_name": "Python 3 (ipykernel)",
   "language": "python",
   "name": "python3"
  },
  "language_info": {
   "codemirror_mode": {
    "name": "ipython",
    "version": 3
   },
   "file_extension": ".py",
   "mimetype": "text/x-python",
   "name": "python",
   "nbconvert_exporter": "python",
   "pygments_lexer": "ipython3",
   "version": "3.10.9"
  }
 },
 "nbformat": 4,
 "nbformat_minor": 5
}
